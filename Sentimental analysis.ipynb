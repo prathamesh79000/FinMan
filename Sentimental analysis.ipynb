{
 "cells": [
  {
   "cell_type": "code",
   "execution_count": 2,
   "id": "f933affc-1ec4-4ae0-939e-5b5b712b9c75",
   "metadata": {},
   "outputs": [],
   "source": [
    "import numpy as np\n",
    "import pandas as pd\n",
    "from tensorflow.keras.preprocessing.text import Tokenizer\n",
    "from tensorflow.keras.preprocessing.sequence import pad_sequences\n",
    "from sklearn.model_selection import train_test_split\n",
    "import tensorflow as tf"
   ]
  },
  {
   "cell_type": "markdown",
   "id": "adf43386-0a02-4536-9ae5-8da6d2562b81",
   "metadata": {},
   "source": [
    "## Loading Data"
   ]
  },
  {
   "cell_type": "code",
   "execution_count": 15,
   "id": "50f0071a-3115-47d4-aa2a-00e455ae76ae",
   "metadata": {},
   "outputs": [
    {
     "data": {
      "text/html": [
       "<div>\n",
       "<style scoped>\n",
       "    .dataframe tbody tr th:only-of-type {\n",
       "        vertical-align: middle;\n",
       "    }\n",
       "\n",
       "    .dataframe tbody tr th {\n",
       "        vertical-align: top;\n",
       "    }\n",
       "\n",
       "    .dataframe thead th {\n",
       "        text-align: right;\n",
       "    }\n",
       "</style>\n",
       "<table border=\"1\" class=\"dataframe\">\n",
       "  <thead>\n",
       "    <tr style=\"text-align: right;\">\n",
       "      <th></th>\n",
       "      <th>Label</th>\n",
       "      <th>Text</th>\n",
       "    </tr>\n",
       "  </thead>\n",
       "  <tbody>\n",
       "    <tr>\n",
       "      <th>0</th>\n",
       "      <td>neutral</td>\n",
       "      <td>According to Gran , the company has no plans t...</td>\n",
       "    </tr>\n",
       "    <tr>\n",
       "      <th>1</th>\n",
       "      <td>neutral</td>\n",
       "      <td>Technopolis plans to develop in stages an area...</td>\n",
       "    </tr>\n",
       "    <tr>\n",
       "      <th>2</th>\n",
       "      <td>negative</td>\n",
       "      <td>The international electronic industry company ...</td>\n",
       "    </tr>\n",
       "    <tr>\n",
       "      <th>3</th>\n",
       "      <td>positive</td>\n",
       "      <td>With the new production plant the company woul...</td>\n",
       "    </tr>\n",
       "    <tr>\n",
       "      <th>4</th>\n",
       "      <td>positive</td>\n",
       "      <td>According to the company 's updated strategy f...</td>\n",
       "    </tr>\n",
       "    <tr>\n",
       "      <th>...</th>\n",
       "      <td>...</td>\n",
       "      <td>...</td>\n",
       "    </tr>\n",
       "    <tr>\n",
       "      <th>4841</th>\n",
       "      <td>negative</td>\n",
       "      <td>LONDON MarketWatch -- Share prices ended lower...</td>\n",
       "    </tr>\n",
       "    <tr>\n",
       "      <th>4842</th>\n",
       "      <td>neutral</td>\n",
       "      <td>Rinkuskiai 's beer sales fell by 6.5 per cent ...</td>\n",
       "    </tr>\n",
       "    <tr>\n",
       "      <th>4843</th>\n",
       "      <td>negative</td>\n",
       "      <td>Operating profit fell to EUR 35.4 mn from EUR ...</td>\n",
       "    </tr>\n",
       "    <tr>\n",
       "      <th>4844</th>\n",
       "      <td>negative</td>\n",
       "      <td>Net sales of the Paper segment decreased to EU...</td>\n",
       "    </tr>\n",
       "    <tr>\n",
       "      <th>4845</th>\n",
       "      <td>negative</td>\n",
       "      <td>Sales in Finland decreased by 10.5 % in Januar...</td>\n",
       "    </tr>\n",
       "  </tbody>\n",
       "</table>\n",
       "<p>4846 rows × 2 columns</p>\n",
       "</div>"
      ],
      "text/plain": [
       "         Label                                               Text\n",
       "0      neutral  According to Gran , the company has no plans t...\n",
       "1      neutral  Technopolis plans to develop in stages an area...\n",
       "2     negative  The international electronic industry company ...\n",
       "3     positive  With the new production plant the company woul...\n",
       "4     positive  According to the company 's updated strategy f...\n",
       "...        ...                                                ...\n",
       "4841  negative  LONDON MarketWatch -- Share prices ended lower...\n",
       "4842   neutral  Rinkuskiai 's beer sales fell by 6.5 per cent ...\n",
       "4843  negative  Operating profit fell to EUR 35.4 mn from EUR ...\n",
       "4844  negative  Net sales of the Paper segment decreased to EU...\n",
       "4845  negative  Sales in Finland decreased by 10.5 % in Januar...\n",
       "\n",
       "[4846 rows x 2 columns]"
      ]
     },
     "execution_count": 15,
     "metadata": {},
     "output_type": "execute_result"
    }
   ],
   "source": [
    "data = pd.read_csv('all-data.csv',names=[\"Label\",\"Text\"],encoding='ISO-8859-1')\n",
    "data"
   ]
  },
  {
   "cell_type": "code",
   "execution_count": 16,
   "id": "fd6e07b9-c492-432e-ad9f-64d36dd60347",
   "metadata": {},
   "outputs": [
    {
     "name": "stdout",
     "output_type": "stream",
     "text": [
      "<class 'pandas.core.frame.DataFrame'>\n",
      "RangeIndex: 4846 entries, 0 to 4845\n",
      "Data columns (total 2 columns):\n",
      " #   Column  Non-Null Count  Dtype \n",
      "---  ------  --------------  ----- \n",
      " 0   Label   4846 non-null   object\n",
      " 1   Text    4846 non-null   object\n",
      "dtypes: object(2)\n",
      "memory usage: 75.8+ KB\n"
     ]
    }
   ],
   "source": [
    "data.info()"
   ]
  },
  {
   "cell_type": "code",
   "execution_count": 17,
   "id": "69483980-f64a-4caf-9336-984999840f2e",
   "metadata": {},
   "outputs": [
    {
     "data": {
      "text/plain": [
       "Label    0\n",
       "Text     0\n",
       "dtype: int64"
      ]
     },
     "execution_count": 17,
     "metadata": {},
     "output_type": "execute_result"
    }
   ],
   "source": [
    "data.isnull().sum()"
   ]
  },
  {
   "cell_type": "code",
   "execution_count": 18,
   "id": "a447b1a3-e8a9-4c69-ab25-4bcc2d7e2778",
   "metadata": {},
   "outputs": [
    {
     "data": {
      "text/html": [
       "<div>\n",
       "<style scoped>\n",
       "    .dataframe tbody tr th:only-of-type {\n",
       "        vertical-align: middle;\n",
       "    }\n",
       "\n",
       "    .dataframe tbody tr th {\n",
       "        vertical-align: top;\n",
       "    }\n",
       "\n",
       "    .dataframe thead th {\n",
       "        text-align: right;\n",
       "    }\n",
       "</style>\n",
       "<table border=\"1\" class=\"dataframe\">\n",
       "  <thead>\n",
       "    <tr style=\"text-align: right;\">\n",
       "      <th></th>\n",
       "      <th>Label</th>\n",
       "      <th>Text</th>\n",
       "    </tr>\n",
       "  </thead>\n",
       "  <tbody>\n",
       "    <tr>\n",
       "      <th>count</th>\n",
       "      <td>4846</td>\n",
       "      <td>4846</td>\n",
       "    </tr>\n",
       "    <tr>\n",
       "      <th>unique</th>\n",
       "      <td>3</td>\n",
       "      <td>4838</td>\n",
       "    </tr>\n",
       "    <tr>\n",
       "      <th>top</th>\n",
       "      <td>neutral</td>\n",
       "      <td>TELECOMWORLDWIRE-7 April 2006-TJ Group Plc sel...</td>\n",
       "    </tr>\n",
       "    <tr>\n",
       "      <th>freq</th>\n",
       "      <td>2879</td>\n",
       "      <td>2</td>\n",
       "    </tr>\n",
       "  </tbody>\n",
       "</table>\n",
       "</div>"
      ],
      "text/plain": [
       "          Label                                               Text\n",
       "count      4846                                               4846\n",
       "unique        3                                               4838\n",
       "top     neutral  TELECOMWORLDWIRE-7 April 2006-TJ Group Plc sel...\n",
       "freq       2879                                                  2"
      ]
     },
     "execution_count": 18,
     "metadata": {},
     "output_type": "execute_result"
    }
   ],
   "source": [
    "data.describe()"
   ]
  },
  {
   "cell_type": "markdown",
   "id": "8f98ff3c-e98b-4c4f-a18f-5e060f3aaa91",
   "metadata": {},
   "source": [
    "## Preprocessing "
   ]
  },
  {
   "cell_type": "code",
   "execution_count": 51,
   "id": "aa3e8029-cc98-4528-8e96-7b88dd084fd1",
   "metadata": {},
   "outputs": [],
   "source": [
    "def get_sequences(texts):\n",
    "    tokenizer = Tokenizer()\n",
    "    tokenizer.fit_on_texts(texts)\n",
    "    sequences = tokenizer.texts_to_sequences(texts)\n",
    "    print(f\"Vocab Length:{ len(tokenizer.word_index) + 1}\")\n",
    "\n",
    "    max_seq_length = np.max(list(map(lambda x:len(x),sequences)))\n",
    "    print(f\"Maximum sequence length:{max_seq_length}\")\n",
    "    sequences = pad_sequences(sequences,maxlen=max_seq_length,padding='post')\n",
    "    return sequences"
   ]
  },
  {
   "cell_type": "code",
   "execution_count": 37,
   "id": "29e17c5c-ce86-4a5a-a246-c0a6ce029289",
   "metadata": {},
   "outputs": [
    {
     "name": "stdout",
     "output_type": "stream",
     "text": [
      "Vocab Length:10123\n",
      "Maximum sequence length:71\n"
     ]
    },
    {
     "data": {
      "text/plain": [
       "array([[  94,    5, 3498, ...,    0,    0,    0],\n",
       "       [ 840,  336,    5, ...,    0,    0,    0],\n",
       "       [   1,  293,  656, ...,    0,    0,    0],\n",
       "       ...,\n",
       "       [  42,   31,  242, ...,    0,    0,    0],\n",
       "       [  30,   27,    2, ...,    0,    0,    0],\n",
       "       [  27,    3,   35, ...,    0,    0,    0]])"
      ]
     },
     "execution_count": 37,
     "metadata": {},
     "output_type": "execute_result"
    }
   ],
   "source": [
    "get_sequences(data['Text'])"
   ]
  },
  {
   "cell_type": "code",
   "execution_count": 38,
   "id": "f8275247-902e-4cf6-9896-a58cf8e94d42",
   "metadata": {},
   "outputs": [
    {
     "name": "stdout",
     "output_type": "stream",
     "text": [
      "Vocab Length:10123\n",
      "Maximum sequence length:71\n"
     ]
    },
    {
     "data": {
      "text/plain": [
       "(4846, 71)"
      ]
     },
     "execution_count": 38,
     "metadata": {},
     "output_type": "execute_result"
    }
   ],
   "source": [
    "get_sequences(data['Text']).shape"
   ]
  },
  {
   "cell_type": "code",
   "execution_count": 39,
   "id": "19f1f5b0-4873-4430-a2bc-31dfc37805ea",
   "metadata": {},
   "outputs": [],
   "source": [
    "def preprocess_input(df):\n",
    "    df= df.copy()\n",
    "    sequences = get_sequences(data['Text'])\n",
    "    label_mapping = {\n",
    "        'negative':0,\n",
    "        'neutral':1,\n",
    "        'positive':2\n",
    "    }\n",
    "    y = df['Label'].replace(label_mapping)\n",
    "    \n",
    "    train_sequences,test_sequences,y_train,y_test=train_test_split(sequences,y,train_size=0.7,shuffle=True,random_state=1)\n",
    "    \n",
    "    return train_sequences,test_sequences,y_train,y_test"
   ]
  },
  {
   "cell_type": "code",
   "execution_count": 40,
   "id": "7b2995a0-7618-406e-acec-41211bad66d8",
   "metadata": {},
   "outputs": [
    {
     "name": "stdout",
     "output_type": "stream",
     "text": [
      "Vocab Length:10123\n",
      "Maximum sequence length:71\n"
     ]
    }
   ],
   "source": [
    "train_sequences,test_sequences,y_train,y_test = preprocess_input(data)"
   ]
  },
  {
   "cell_type": "code",
   "execution_count": 41,
   "id": "7a8fa5eb-af4f-46e6-a1dc-c55578ace766",
   "metadata": {},
   "outputs": [
    {
     "data": {
      "text/plain": [
       "array([[5442,  510,   16, ...,    0,    0,    0],\n",
       "       [  22, 1628,    4, ...,    0,    0,    0],\n",
       "       [1141,  936,  136, ...,    0,    0,    0],\n",
       "       ...,\n",
       "       [   1,  419,   16, ...,    0,    0,    0],\n",
       "       [2586,  123, 3247, ...,    0,    0,    0],\n",
       "       [  30,  615,  555, ...,    0,    0,    0]])"
      ]
     },
     "execution_count": 41,
     "metadata": {},
     "output_type": "execute_result"
    }
   ],
   "source": [
    "train_sequences"
   ]
  },
  {
   "cell_type": "code",
   "execution_count": 43,
   "id": "402f64e6-28c9-4f50-a5f0-d4b3929e2464",
   "metadata": {},
   "outputs": [
    {
     "data": {
      "text/plain": [
       "545     2\n",
       "2374    0\n",
       "4217    1\n",
       "1071    1\n",
       "716     2\n",
       "       ..\n",
       "2895    1\n",
       "2763    1\n",
       "905     2\n",
       "3980    1\n",
       "235     2\n",
       "Name: Label, Length: 3392, dtype: int64"
      ]
     },
     "execution_count": 43,
     "metadata": {},
     "output_type": "execute_result"
    }
   ],
   "source": [
    "y_train"
   ]
  },
  {
   "cell_type": "markdown",
   "id": "4471921e-ab88-4e47-9eaf-0e33cdfb87cd",
   "metadata": {},
   "source": [
    "## Training"
   ]
  },
  {
   "cell_type": "code",
   "execution_count": 46,
   "id": "46992cfa-2e26-4149-8e6a-f1c34d404ec8",
   "metadata": {},
   "outputs": [
    {
     "name": "stdout",
     "output_type": "stream",
     "text": [
      "Epoch 1/100\n",
      "85/85 [==============================] - 30s 286ms/step - loss: 0.8313 - accuracy: 0.6377 - val_loss: 0.8123 - val_accuracy: 0.6348\n",
      "Epoch 2/100\n",
      "85/85 [==============================] - 13s 149ms/step - loss: 0.4777 - accuracy: 0.8116 - val_loss: 0.7907 - val_accuracy: 0.6701\n",
      "Epoch 3/100\n",
      "85/85 [==============================] - 8s 95ms/step - loss: 0.1665 - accuracy: 0.9399 - val_loss: 0.9976 - val_accuracy: 0.6701\n",
      "Epoch 4/100\n",
      "85/85 [==============================] - 8s 99ms/step - loss: 0.0484 - accuracy: 0.9864 - val_loss: 1.3249 - val_accuracy: 0.7099\n",
      "Epoch 5/100\n",
      "85/85 [==============================] - 9s 103ms/step - loss: 0.0190 - accuracy: 0.9956 - val_loss: 1.3737 - val_accuracy: 0.6834\n"
     ]
    }
   ],
   "source": [
    "inputs = tf.keras.Input(shape=(train_sequences.shape[1],))\n",
    "x = tf.keras.layers.Embedding(\n",
    "    input_dim=10123,\n",
    "    output_dim=128,\n",
    "    input_length=train_sequences.shape[1]\n",
    ")(inputs)\n",
    "x = tf.keras.layers.GRU(256, return_sequences=True, activation='tanh')(x)\n",
    "x = tf.keras.layers.Flatten()(x)\n",
    "outputs = tf.keras.layers.Dense(3, activation='softmax')(x)\n",
    "model = tf.keras.Model(inputs=inputs, outputs=outputs)\n",
    "\n",
    "model.compile(\n",
    "    optimizer='adam',\n",
    "    loss='sparse_categorical_crossentropy',\n",
    "    metrics=['accuracy']\n",
    ")\n",
    "history = model.fit(\n",
    "    train_sequences,\n",
    "    y_train,\n",
    "    validation_split=0.2,\n",
    "    batch_size=32,\n",
    "    epochs=100,\n",
    "    callbacks=[\n",
    "        tf.keras.callbacks.EarlyStopping(\n",
    "            monitor='val_loss',\n",
    "            patience=3,\n",
    "            restore_best_weights=True\n",
    "        )\n",
    "    ]\n",
    ")"
   ]
  },
  {
   "cell_type": "code",
   "execution_count": 47,
   "id": "058d3058-e5d8-49fe-9227-9ff8b03fc5df",
   "metadata": {},
   "outputs": [
    {
     "name": "stdout",
     "output_type": "stream",
     "text": [
      "Test Loss: 0.69247\n",
      "Test Accuracy: 72.15%\n"
     ]
    }
   ],
   "source": [
    "results = model.evaluate(test_sequences, y_test, verbose=0)\n",
    "\n",
    "print(\"Test Loss: {:.5f}\".format(results[0]))\n",
    "print(\"Test Accuracy: {:.2f}%\".format(results[1] * 100))"
   ]
  }
 ],
 "metadata": {
  "kernelspec": {
   "display_name": "Python 3 (ipykernel)",
   "language": "python",
   "name": "python3"
  },
  "language_info": {
   "codemirror_mode": {
    "name": "ipython",
    "version": 3
   },
   "file_extension": ".py",
   "mimetype": "text/x-python",
   "name": "python",
   "nbconvert_exporter": "python",
   "pygments_lexer": "ipython3",
   "version": "3.10.5"
  }
 },
 "nbformat": 4,
 "nbformat_minor": 5
}
